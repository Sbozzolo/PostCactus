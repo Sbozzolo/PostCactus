{
 "cells": [
  {
   "cell_type": "markdown",
   "metadata": {},
   "source": [
    "# Working with Simulation Directories\n",
    "\n",
    "Analyzing simulation data is as important as running the simulation itself. In this notebook, we will see how we easily access all the data using the [SimDir](../simdir.rst) module.\n",
    "\n",
    "(This notebook is meant to be converted in Sphinx documentation and not used directly.)"
   ]
  },
  {
   "cell_type": "code",
   "execution_count": 1,
   "metadata": {
    "execution": {
     "iopub.execute_input": "2020-11-24T18:22:02.840864Z",
     "iopub.status.busy": "2020-11-24T18:22:02.840230Z",
     "iopub.status.idle": "2020-11-24T18:22:03.365752Z",
     "shell.execute_reply": "2020-11-24T18:22:03.365153Z"
    }
   },
   "outputs": [],
   "source": [
    "from postcactus import simdir as sd"
   ]
  },
  {
   "cell_type": "markdown",
   "metadata": {},
   "source": [
    "Loading simulation data is as easy as generating `SimDir` objects. Just provide the path, and PostCactus will do the rest."
   ]
  },
  {
   "cell_type": "code",
   "execution_count": 2,
   "metadata": {
    "execution": {
     "iopub.execute_input": "2020-11-24T18:22:03.370764Z",
     "iopub.status.busy": "2020-11-24T18:22:03.369677Z",
     "iopub.status.idle": "2020-11-24T18:22:03.380063Z",
     "shell.execute_reply": "2020-11-24T18:22:03.380705Z"
    }
   },
   "outputs": [],
   "source": [
    "sim = sd.SimDir(\"../../tests/tov\")"
   ]
  },
  {
   "cell_type": "markdown",
   "metadata": {},
   "source": [
    "We can get an overview of what is available by printing `sim`:"
   ]
  },
  {
   "cell_type": "code",
   "execution_count": 3,
   "metadata": {
    "execution": {
     "iopub.execute_input": "2020-11-24T18:22:03.386547Z",
     "iopub.status.busy": "2020-11-24T18:22:03.385510Z",
     "iopub.status.idle": "2020-11-24T18:22:03.588841Z",
     "shell.execute_reply": "2020-11-24T18:22:03.589460Z"
    }
   },
   "outputs": [
    {
     "name": "stdout",
     "output_type": "stream",
     "text": [
      "Indexed 446 files and 5 subdirectories\n",
      "Folder /home/runner/work/PostCactus/PostCactus/tests/tov\n",
      "Available scalar timeseries:\n",
      "['physical_time_per_hour', 'current_physical_time_per_hour', 'time_total', 'time_evolution', 'time_computing', 'time_communicating', 'time_io', 'evolution_steps_count', 'local_grid_points_per_second', 'total_grid_points_per_second', 'local_grid_point_updates_count', 'total_grid_point_updates_count', 'local_interior_points_per_second', 'total_interior_points_per_second', 'local_interior_point_updates_count', 'total_interior_point_updates_count', 'io_per_second', 'io_bytes_per_second', 'io_bytes_ascii_per_second', 'io_bytes_binary_per_second', 'io_count', 'io_bytes_count', 'io_bytes_ascii_count', 'io_bytes_binary_count', 'comm_per_second', 'comm_bytes_per_second', 'comm_count', 'comm_bytes_count', 'time_levels']\n",
      "\n",
      "Available minimum timeseries:\n",
      "['gxx', 'gxy', 'gxz', 'gyy', 'gyz', 'gzz', 'rho', 'vel[0]', 'vel[1]', 'vel[2]', 'eps', 'M1', 'M2', 'M3', 'alp', 'H', 'kxx', 'kxy', 'kxz', 'kyy', 'kyz', 'kzz', 'press']\n",
      "\n",
      "Available maximum timeseries:\n",
      "['M1', 'M2', 'M3', 'press', 'alp', 'eps', 'rho', 'gxx', 'gxy', 'gxz', 'gyy', 'gyz', 'gzz', 'kxx', 'kxy', 'kxz', 'kyy', 'kyz', 'kzz', 'vel[0]', 'vel[1]', 'vel[2]', 'H']\n",
      "\n",
      "Available norm1 timeseries:\n",
      "['alp', 'press', 'gxx', 'gxy', 'gxz', 'gyy', 'gyz', 'gzz', 'vel[0]', 'vel[1]', 'vel[2]', 'H', 'eps', 'M1', 'M2', 'M3', 'kxx', 'kxy', 'kxz', 'kyy', 'kyz', 'kzz', 'rho']\n",
      "\n",
      "Available norm2 timeseries:\n",
      "['rho', 'alp', 'M1', 'M2', 'M3', 'vel[0]', 'vel[1]', 'vel[2]', 'gxx', 'gxy', 'gxz', 'gyy', 'gyz', 'gzz', 'eps', 'kxx', 'kxy', 'kxz', 'kyy', 'kyz', 'kzz', 'press', 'H']\n",
      "\n",
      "Available average timeseries:\n",
      "['rho', 'press', 'M1', 'M2', 'M3', 'eps', 'gxx', 'gxy', 'gxz', 'gyy', 'gyz', 'gzz', 'vel[0]', 'vel[1]', 'vel[2]', 'alp', 'H', 'kxx', 'kxy', 'kxz', 'kyy', 'kyz', 'kzz']\n",
      "\n",
      "Folder: /home/runner/work/PostCactus/PostCactus/tests/tov\n",
      "Variables available: ['psi4', 'harmonic', 'phi2']\n",
      "For variable psi4:\n",
      "\n",
      "Avilable radii: [60.13, 77.93, 48.95, 140.16, 110.69, 191.0, 53.96, 67.88, 91.46, 44.78]\n",
      "\n",
      "At radius 44.78, (l, m) available: {(2, -1), (2, -2), (2, 1), (2, 0), (2, 2)} (missing: [(1, 0), (0, 0), (1, -1), (1, 1)])\n",
      "At radius 48.95, (l, m) available: {(2, -1), (2, -2), (2, 1), (2, 0), (2, 2)} (missing: [(1, 0), (0, 0), (1, -1), (1, 1)])\n",
      "At radius 53.96, (l, m) available: {(2, -1), (2, -2), (2, 1), (2, 0), (2, 2)} (missing: [(1, 0), (0, 0), (1, -1), (1, 1)])\n",
      "At radius 60.13, (l, m) available: {(2, -2), (2, -1), (2, 1), (2, 0), (2, 2)} (missing: [(1, 0), (0, 0), (1, -1), (1, 1)])\n",
      "At radius 67.88, (l, m) available: {(2, -2), (2, -1), (2, 1), (2, 0), (2, 2)} (missing: [(1, 0), (0, 0), (1, -1), (1, 1)])\n",
      "At radius 77.93, (l, m) available: {(2, -1), (2, -2), (2, 1), (2, 0), (2, 2)} (missing: [(1, 0), (0, 0), (1, -1), (1, 1)])\n",
      "At radius 91.46, (l, m) available: {(2, -1), (2, -2), (2, 1), (2, 0), (2, 2)} (missing: [(1, 0), (0, 0), (1, -1), (1, 1)])\n",
      "At radius 110.69, (l, m) available: {(2, -2), (2, -1), (2, 1), (2, 0), (2, 2)} (missing: [(1, 0), (0, 0), (1, -1), (1, 1)])\n",
      "At radius 140.16, (l, m) available: {(2, -2), (2, -1), (2, 1), (2, 0), (2, 2)} (missing: [(1, 0), (0, 0), (1, -1), (1, 1)])\n",
      "At radius 191.0, (l, m) available: {(2, -1), (2, -2), (2, 1), (2, 0), (2, 2)} (missing: [(1, 0), (0, 0), (1, -1), (1, 1)])\n",
      "\n",
      "For variable harmonic:\n",
      "\n",
      "Avilable radii: [4.0, 8.0]\n",
      "\n",
      "At radius 4.0, (l, m) available: {(0, 0), (2, -1), (2, -2), (2, 1), (2, 0), (2, 2), (1, 0), (1, -1), (1, 1)}\n",
      "At radius 8.0, (l, m) available: {(0, 0), (2, -1), (2, -2), (2, 1), (2, 0), (2, 2), (1, 0), (1, -1), (1, 1)}\n",
      "\n",
      "For variable phi2:\n",
      "\n",
      "Avilable radii: [110.69, 60.13, 48.95, 140.16, 191.0, 53.96, 77.93, 91.46, 44.78, 67.88]\n",
      "\n",
      "At radius 44.78, (l, m) available: {(2, -2), (2, -1), (2, 1), (2, 0), (2, 2)} (missing: [(1, 0), (0, 0), (1, -1), (1, 1)])\n",
      "At radius 48.95, (l, m) available: {(2, -1), (2, -2), (2, 1), (2, 0), (2, 2)} (missing: [(1, 0), (0, 0), (1, -1), (1, 1)])\n",
      "At radius 53.96, (l, m) available: {(2, -2), (2, -1), (2, 1), (2, 0), (2, 2)} (missing: [(1, 0), (0, 0), (1, -1), (1, 1)])\n",
      "At radius 60.13, (l, m) available: {(2, -1), (2, -2), (2, 1), (2, 0), (2, 2)} (missing: [(1, 0), (0, 0), (1, -1), (1, 1)])\n",
      "At radius 67.88, (l, m) available: {(2, -2), (2, -1), (2, 1), (2, 0), (2, 2)} (missing: [(1, 0), (0, 0), (1, -1), (1, 1)])\n",
      "At radius 77.93, (l, m) available: {(2, -2), (2, -1), (2, 1), (2, 0), (2, 2)} (missing: [(1, 0), (0, 0), (1, -1), (1, 1)])\n",
      "At radius 91.46, (l, m) available: {(2, -1), (2, -2), (2, 1), (2, 0), (2, 2)} (missing: [(1, 0), (0, 0), (1, -1), (1, 1)])\n",
      "At radius 110.69, (l, m) available: {(2, -2), (2, -1), (2, 1), (2, 0), (2, 2)} (missing: [(1, 0), (0, 0), (1, -1), (1, 1)])\n",
      "At radius 140.16, (l, m) available: {(2, -2), (2, -1), (2, 1), (2, 0), (2, 2)} (missing: [(1, 0), (0, 0), (1, -1), (1, 1)])\n",
      "At radius 191.0, (l, m) available: {(2, -2), (2, -1), (2, 1), (2, 0), (2, 2)} (missing: [(1, 0), (0, 0), (1, -1), (1, 1)])\n",
      "\n",
      "Available gravitational wave dataAvailable electromagnetic wave data\n",
      "Available grid data of dimension 1D (x): \n",
      "['gyz', 'kyz', 'gyy', 'rho', 'vel[0]', 'vel[1]', 'kxy', 'H', 'kyy', 'gxx', 'kxx', 'alp', 'gxy', 'M3', 'M2', 'gxz', 'kxz', 'eps', 'M1', 'vel[2]', 'gzz', 'press', 'kzz']\n",
      "\n",
      "\n",
      "Available grid data of dimension 1D (y): \n",
      "['gyz', 'kyz', 'rho', 'gyy', 'vel[0]', 'kxy', 'vel[1]', 'H', 'kyy', 'gxx', 'kxx', 'alp', 'gxy', 'M3', 'gxz', 'M2', 'kxz', 'eps', 'M1', 'vel[2]', 'gzz', 'press', 'kzz']\n",
      "\n",
      "\n",
      "Available grid data of dimension 1D (z): \n",
      "['gyz', 'kyz', 'gyy', 'rho', 'vel[0]', 'kxy', 'vel[1]', 'H', 'kyy', 'gxx', 'kxx', 'alp', 'gxy', 'kxz', 'gxz', 'M2', 'M3', 'eps', 'M1', 'vel[2]', 'gzz', 'press', 'kzz']\n",
      "\n",
      "\n",
      "Available grid data of dimension 2D (xy): \n",
      "['vel[2]', 'vel[1]', 'rho', 'vel[0]']\n",
      "\n",
      "\n",
      "Available grid data of dimension 2D (xz): \n",
      "['vel[2]', 'vel[1]', 'rho', 'vel[0]']\n",
      "\n",
      "\n",
      "Available grid data of dimension 2D (yz): \n",
      "['vel[2]', 'vel[1]', 'rho', 'vel[0]']\n",
      "\n",
      "\n",
      "Available grid data of dimension 3D (xyz): \n",
      "['vel[2]', 'rho', 'vel[0]', 'mp_harmonic', 'vel[1]']\n",
      "No horizon found\n"
     ]
    }
   ],
   "source": [
    "print(sim)"
   ]
  },
  {
   "cell_type": "markdown",
   "metadata": {},
   "source": [
    "This is a long output because we have a lot of available data! Everything that is printed is the output is easily accessible through `SimDir`. Moreover, the loading of data is lazy and the result is cached: computations are done only when needed, and all the subsequent calls will be immediate.\n",
    "\n",
    "If you have thorns with custom output, you have to extend `PostCactus` to analyze them. `SimDir` has multiple submodules to handle the different kind of data. Let us explore them."
   ]
  },
  {
   "cell_type": "markdown",
   "metadata": {},
   "source": [
    "## Cactus_scalars\n",
    "The [cactus_scalars](../cactus_scalars.rst) module understands ASCII files as output by CarpetASCII. It supports all the reductions (maximum, minimum, ...), 0d files, as well as scalar data. Using regular expression on the header of the file, `cactus_scalars` can process one variable per file and multiple variables per file. In `SimDir`, you can access scalars with the `ts` or `timeseries` attributes. "
   ]
  },
  {
   "cell_type": "code",
   "execution_count": 4,
   "metadata": {
    "execution": {
     "iopub.execute_input": "2020-11-24T18:22:03.593891Z",
     "iopub.status.busy": "2020-11-24T18:22:03.593172Z",
     "iopub.status.idle": "2020-11-24T18:22:03.597437Z",
     "shell.execute_reply": "2020-11-24T18:22:03.596808Z"
    }
   },
   "outputs": [],
   "source": [
    "timeseries = sim.ts\n",
    "# equivalent: timeseries = sim.timeseries"
   ]
  },
  {
   "cell_type": "markdown",
   "metadata": {},
   "source": [
    "If we printed `timeseries`, we would find part of the output from `SimDir`. This is because the printed output from `SimDir` is obtained printing all the different submodules. Another way to see the available variable for a secific reduction is with the `keys` method:"
   ]
  },
  {
   "cell_type": "code",
   "execution_count": 5,
   "metadata": {
    "execution": {
     "iopub.execute_input": "2020-11-24T18:22:03.609982Z",
     "iopub.status.busy": "2020-11-24T18:22:03.608899Z",
     "iopub.status.idle": "2020-11-24T18:22:03.612472Z",
     "shell.execute_reply": "2020-11-24T18:22:03.611946Z"
    }
   },
   "outputs": [
    {
     "data": {
      "text/plain": [
       "['M1',\n",
       " 'M2',\n",
       " 'M3',\n",
       " 'press',\n",
       " 'alp',\n",
       " 'eps',\n",
       " 'rho',\n",
       " 'gxx',\n",
       " 'gxy',\n",
       " 'gxz',\n",
       " 'gyy',\n",
       " 'gyz',\n",
       " 'gzz',\n",
       " 'kxx',\n",
       " 'kxy',\n",
       " 'kxz',\n",
       " 'kyy',\n",
       " 'kyz',\n",
       " 'kzz',\n",
       " 'vel[0]',\n",
       " 'vel[1]',\n",
       " 'vel[2]',\n",
       " 'H']"
      ]
     },
     "execution_count": 1,
     "metadata": {},
     "output_type": "execute_result"
    }
   ],
   "source": [
    "timeseries.maximum.keys()"
   ]
  },
  {
   "cell_type": "markdown",
   "metadata": {},
   "source": [
    "There are equivalent three different way to access those variables as [timeseries](../series.rst)."
   ]
  },
  {
   "cell_type": "code",
   "execution_count": 6,
   "metadata": {
    "execution": {
     "iopub.execute_input": "2020-11-24T18:22:03.617584Z",
     "iopub.status.busy": "2020-11-24T18:22:03.616492Z",
     "iopub.status.idle": "2020-11-24T18:22:03.620199Z",
     "shell.execute_reply": "2020-11-24T18:22:03.619567Z"
    }
   },
   "outputs": [],
   "source": [
    "rho_max1 = timeseries.maximum.fields.rho\n",
    "rho_max2 = timeseries.maximum['rho']\n",
    "rho_max3 = timeseries.maximum.get('rho')"
   ]
  },
  {
   "cell_type": "markdown",
   "metadata": {},
   "source": [
    "These objects are [timeseries](../series.rst), which are extremely convienent representation of data evolving in time. These series span multiple simulation restarts and have files in different folders: `PostCactus` does all the hard work to find the files and combine them. Moreover, they `timeseries` have a lot of features, as you can see in the [timeseries tutorial](timeseries.ipynb)."
   ]
  }
 ],
 "metadata": {
  "kernelspec": {
   "display_name": "Python 3",
   "language": "python",
   "name": "python3"
  },
  "language_info": {
   "codemirror_mode": {
    "name": "ipython",
    "version": 3
   },
   "file_extension": ".py",
   "mimetype": "text/x-python",
   "name": "python",
   "nbconvert_exporter": "python",
   "pygments_lexer": "ipython3",
   "version": "3.7.9"
  }
 },
 "nbformat": 4,
 "nbformat_minor": 4
}
