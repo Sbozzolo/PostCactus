{
 "cells": [
  {
   "cell_type": "markdown",
   "metadata": {},
   "source": [
    "# Working with Simulation Directories\n",
    "\n",
    "Analyzing simulation data is as important as running the simulation itself. In this notebook, we will see how we easily access all the data using the [SimDir](../simdir.rst) module.\n",
    "\n",
    "(This notebook is meant to be converted in Sphinx documentation and not used directly.)"
   ]
  },
  {
   "cell_type": "code",
   "execution_count": 1,
   "metadata": {
    "execution": {
     "iopub.execute_input": "2021-01-30T03:27:03.314424Z",
     "iopub.status.busy": "2021-01-30T03:27:03.313846Z",
     "iopub.status.idle": "2021-01-30T03:27:03.706255Z",
     "shell.execute_reply": "2021-01-30T03:27:03.706751Z"
    }
   },
   "outputs": [],
   "source": [
    "from kuibit import simdir as sd"
   ]
  },
  {
   "cell_type": "markdown",
   "metadata": {},
   "source": [
    "Loading simulation data is as easy as generating `SimDir` objects. Just provide the path, and kuibit will do the rest."
   ]
  },
  {
   "cell_type": "code",
   "execution_count": 2,
   "metadata": {
    "execution": {
     "iopub.execute_input": "2021-01-30T03:27:03.711797Z",
     "iopub.status.busy": "2021-01-30T03:27:03.710808Z",
     "iopub.status.idle": "2021-01-30T03:27:03.721144Z",
     "shell.execute_reply": "2021-01-30T03:27:03.720610Z"
    }
   },
   "outputs": [],
   "source": [
    "sim = sd.SimDir(\"../../tests/tov\")"
   ]
  },
  {
   "cell_type": "markdown",
   "metadata": {},
   "source": [
    "We can get an overview of what is available by printing `sim`:"
   ]
  },
  {
   "cell_type": "code",
   "execution_count": 3,
   "metadata": {
    "execution": {
     "iopub.execute_input": "2021-01-30T03:27:03.725609Z",
     "iopub.status.busy": "2021-01-30T03:27:03.725000Z",
     "iopub.status.idle": "2021-01-30T03:27:03.903551Z",
     "shell.execute_reply": "2021-01-30T03:27:03.903013Z"
    }
   },
   "outputs": [
    {
     "name": "stdout",
     "output_type": "stream",
     "text": [
      "Indexed 446 files and 5 subdirectories\n",
      "Folder /home/runner/work/kuibit/kuibit/tests/tov\n",
      "Available scalar timeseries:\n",
      "['physical_time_per_hour', 'current_physical_time_per_hour', 'time_total', 'time_evolution', 'time_computing', 'time_communicating', 'time_io', 'evolution_steps_count', 'local_grid_points_per_second', 'total_grid_points_per_second', 'local_grid_point_updates_count', 'total_grid_point_updates_count', 'local_interior_points_per_second', 'total_interior_points_per_second', 'local_interior_point_updates_count', 'total_interior_point_updates_count', 'io_per_second', 'io_bytes_per_second', 'io_bytes_ascii_per_second', 'io_bytes_binary_per_second', 'io_count', 'io_bytes_count', 'io_bytes_ascii_count', 'io_bytes_binary_count', 'comm_per_second', 'comm_bytes_per_second', 'comm_count', 'comm_bytes_count', 'time_levels']\n",
      "\n",
      "Available minimum timeseries:\n",
      "['eps', 'press', 'kxx', 'kxy', 'kxz', 'kyy', 'kyz', 'kzz', 'vel[0]', 'vel[1]', 'vel[2]', 'alp', 'gxx', 'gxy', 'gxz', 'gyy', 'gyz', 'gzz', 'M1', 'M2', 'M3', 'rho', 'H']\n",
      "\n",
      "Available maximum timeseries:\n",
      "['gxx', 'gxy', 'gxz', 'gyy', 'gyz', 'gzz', 'vel[0]', 'vel[1]', 'vel[2]', 'alp', 'H', 'rho', 'M1', 'M2', 'M3', 'kxx', 'kxy', 'kxz', 'kyy', 'kyz', 'kzz', 'eps', 'press']\n",
      "\n",
      "Available norm1 timeseries:\n",
      "['kxx', 'kxy', 'kxz', 'kyy', 'kyz', 'kzz', 'alp', 'press', 'M1', 'M2', 'M3', 'rho', 'eps', 'gxx', 'gxy', 'gxz', 'gyy', 'gyz', 'gzz', 'H', 'vel[0]', 'vel[1]', 'vel[2]']\n",
      "\n",
      "Available norm2 timeseries:\n",
      "['kxx', 'kxy', 'kxz', 'kyy', 'kyz', 'kzz', 'M1', 'M2', 'M3', 'eps', 'H', 'alp', 'rho', 'press', 'gxx', 'gxy', 'gxz', 'gyy', 'gyz', 'gzz', 'vel[0]', 'vel[1]', 'vel[2]']\n",
      "\n",
      "Available average timeseries:\n",
      "['M1', 'M2', 'M3', 'gxx', 'gxy', 'gxz', 'gyy', 'gyz', 'gzz', 'press', 'eps', 'H', 'kxx', 'kxy', 'kxz', 'kyy', 'kyz', 'kzz', 'vel[0]', 'vel[1]', 'vel[2]', 'rho', 'alp']\n",
      "\n",
      "Variables available: dict_keys(['harmonic', 'psi4', 'phi2'])\n",
      "For variable harmonic:\n",
      "\n",
      "Avilable radii: [4.0, 8.0]\n",
      "\n",
      "At radius 4.0, (l, m) available: dict_keys([(0, 0), (1, -1), (1, 0), (1, 1), (2, -1), (2, -2), (2, 0), (2, 1), (2, 2)])\n",
      "At radius 8.0, (l, m) available: dict_keys([(0, 0), (1, -1), (1, 0), (1, 1), (2, -1), (2, -2), (2, 0), (2, 1), (2, 2)])\n",
      "\n",
      "For variable psi4:\n",
      "\n",
      "Avilable radii: [191.0, 91.46, 67.88, 140.16, 44.78, 48.95, 110.69, 53.96, 77.93, 60.13]\n",
      "\n",
      "At radius 44.78, (l, m) available: dict_keys([(2, -1), (2, -2), (2, 0), (2, 2), (2, 1)]) (missing: [(1, 0), (0, 0), (1, -1), (1, 1)])\n",
      "At radius 48.95, (l, m) available: dict_keys([(2, -1), (2, 0), (2, 1), (2, 2), (2, -2)]) (missing: [(1, 0), (0, 0), (1, -1), (1, 1)])\n",
      "At radius 53.96, (l, m) available: dict_keys([(2, 2), (2, -2), (2, 1), (2, 0), (2, -1)]) (missing: [(1, 0), (0, 0), (1, -1), (1, 1)])\n",
      "At radius 60.13, (l, m) available: dict_keys([(2, -1), (2, -2), (2, 2), (2, 1), (2, 0)]) (missing: [(1, 0), (0, 0), (1, -1), (1, 1)])\n",
      "At radius 67.88, (l, m) available: dict_keys([(2, 0), (2, 1), (2, -2), (2, -1), (2, 2)]) (missing: [(1, 0), (0, 0), (1, -1), (1, 1)])\n",
      "At radius 77.93, (l, m) available: dict_keys([(2, 2), (2, 0), (2, -1), (2, 1), (2, -2)]) (missing: [(1, 0), (0, 0), (1, -1), (1, 1)])\n",
      "At radius 91.46, (l, m) available: dict_keys([(2, 2), (2, -1), (2, -2), (2, 0), (2, 1)]) (missing: [(1, 0), (0, 0), (1, -1), (1, 1)])\n",
      "At radius 110.69, (l, m) available: dict_keys([(2, -1), (2, 2), (2, 0), (2, -2), (2, 1)]) (missing: [(1, 0), (0, 0), (1, -1), (1, 1)])\n",
      "At radius 140.16, (l, m) available: dict_keys([(2, -2), (2, 1), (2, 2), (2, 0), (2, -1)]) (missing: [(1, 0), (0, 0), (1, -1), (1, 1)])\n",
      "At radius 191.0, (l, m) available: dict_keys([(2, 2), (2, -1), (2, 0), (2, -2), (2, 1)]) (missing: [(1, 0), (0, 0), (1, -1), (1, 1)])\n",
      "\n",
      "For variable phi2:\n",
      "\n",
      "Avilable radii: [77.93, 140.16, 44.78, 53.96, 91.46, 110.69, 67.88, 60.13, 48.95, 191.0]\n",
      "\n",
      "At radius 44.78, (l, m) available: dict_keys([(2, -1), (2, -2), (2, 0), (2, 2), (2, 1)]) (missing: [(1, 0), (0, 0), (1, -1), (1, 1)])\n",
      "At radius 48.95, (l, m) available: dict_keys([(2, -2), (2, 1), (2, -1), (2, 2), (2, 0)]) (missing: [(1, 0), (0, 0), (1, -1), (1, 1)])\n",
      "At radius 53.96, (l, m) available: dict_keys([(2, 2), (2, 0), (2, 1), (2, -1), (2, -2)]) (missing: [(1, 0), (0, 0), (1, -1), (1, 1)])\n",
      "At radius 60.13, (l, m) available: dict_keys([(2, -2), (2, -1), (2, 0), (2, 2), (2, 1)]) (missing: [(1, 0), (0, 0), (1, -1), (1, 1)])\n",
      "At radius 67.88, (l, m) available: dict_keys([(2, -1), (2, 1), (2, 0), (2, -2), (2, 2)]) (missing: [(1, 0), (0, 0), (1, -1), (1, 1)])\n",
      "At radius 77.93, (l, m) available: dict_keys([(2, 1), (2, -1), (2, 0), (2, 2), (2, -2)]) (missing: [(1, 0), (0, 0), (1, -1), (1, 1)])\n",
      "At radius 91.46, (l, m) available: dict_keys([(2, 1), (2, -2), (2, 2), (2, -1), (2, 0)]) (missing: [(1, 0), (0, 0), (1, -1), (1, 1)])\n",
      "At radius 110.69, (l, m) available: dict_keys([(2, 2), (2, 1), (2, -2), (2, 0), (2, -1)]) (missing: [(1, 0), (0, 0), (1, -1), (1, 1)])\n",
      "At radius 140.16, (l, m) available: dict_keys([(2, 0), (2, 2), (2, -1), (2, -2), (2, 1)]) (missing: [(1, 0), (0, 0), (1, -1), (1, 1)])\n",
      "At radius 191.0, (l, m) available: dict_keys([(2, -1), (2, 0), (2, 1), (2, -2), (2, 2)]) (missing: [(1, 0), (0, 0), (1, -1), (1, 1)])\n",
      "\n",
      "Available gravitational wave dataAvailable electromagnetic wave data\n",
      "Available grid data of dimension 1D (x): \n",
      "['vel[0]', 'vel[1]', 'vel[2]', 'H', 'kxx', 'kxy', 'kxz', 'kyy', 'kyz', 'kzz', 'M1', 'M2', 'M3', 'alp', 'press', 'eps', 'gxx', 'gxy', 'gxz', 'gyy', 'gyz', 'gzz', 'rho']\n",
      "\n",
      "\n",
      "Available grid data of dimension 1D (y): \n",
      "['alp', 'gxx', 'gxy', 'gxz', 'gyy', 'gyz', 'gzz', 'rho', 'vel[0]', 'vel[1]', 'vel[2]', 'M1', 'M2', 'M3', 'press', 'eps', 'H', 'kxx', 'kxy', 'kxz', 'kyy', 'kyz', 'kzz']\n",
      "\n",
      "\n",
      "Available grid data of dimension 1D (z): \n",
      "['vel[0]', 'vel[1]', 'vel[2]', 'alp', 'gxx', 'gxy', 'gxz', 'gyy', 'gyz', 'gzz', 'M1', 'M2', 'M3', 'kxx', 'kxy', 'kxz', 'kyy', 'kyz', 'kzz', 'press', 'rho', 'eps', 'H']\n",
      "\n",
      "\n",
      "Available grid data of dimension 2D (xy): \n",
      "['rho', 'vel[1]', 'vel[0]', 'vel[2]']\n",
      "\n",
      "\n",
      "Available grid data of dimension 2D (xz): \n",
      "['vel[1]', 'rho', 'vel[0]', 'vel[2]']\n",
      "\n",
      "\n",
      "Available grid data of dimension 2D (yz): \n",
      "['vel[2]', 'vel[1]', 'vel[0]', 'rho']\n",
      "\n",
      "\n",
      "Available grid data of dimension 3D (xyz): \n",
      "['mp_harmonic', 'rho', 'vel[0]', 'vel[1]', 'vel[2]']\n",
      "No horizon found\n"
     ]
    }
   ],
   "source": [
    "print(sim)"
   ]
  },
  {
   "cell_type": "markdown",
   "metadata": {},
   "source": [
    "This is a long output because we have a lot of available data! Everything that is printed is the output is easily accessible through `SimDir`. Moreover, the loading of data is lazy and the result is cached: computations are done only when needed, and all the subsequent calls will be immediate.\n",
    "\n",
    "If you have thorns with custom output, you have to extend `kuibit` to analyze them. `SimDir` has multiple submodules to handle the different kind of data. Let us explore them."
   ]
  },
  {
   "cell_type": "markdown",
   "metadata": {},
   "source": [
    "## Cactus_scalars\n",
    "The [cactus_scalars](../cactus_scalars.rst) module understands ASCII files as output by CarpetASCII. It supports all the reductions (maximum, minimum, ...), 0d files, as well as scalar data. Using regular expression on the header of the file, `cactus_scalars` can process one variable per file and multiple variables per file. In `SimDir`, you can access scalars with the `ts` or `timeseries` attributes. "
   ]
  },
  {
   "cell_type": "code",
   "execution_count": 4,
   "metadata": {
    "execution": {
     "iopub.execute_input": "2021-01-30T03:27:03.908468Z",
     "iopub.status.busy": "2021-01-30T03:27:03.907116Z",
     "iopub.status.idle": "2021-01-30T03:27:03.909120Z",
     "shell.execute_reply": "2021-01-30T03:27:03.909591Z"
    }
   },
   "outputs": [],
   "source": [
    "timeseries = sim.ts\n",
    "# equivalent: timeseries = sim.timeseries"
   ]
  },
  {
   "cell_type": "markdown",
   "metadata": {},
   "source": [
    "If we printed `timeseries`, we would find part of the output from `SimDir`. This is because the printed output from `SimDir` is obtained printing all the different submodules. Another way to see the available variable for a secific reduction is with the `keys` method:"
   ]
  },
  {
   "cell_type": "code",
   "execution_count": 5,
   "metadata": {
    "execution": {
     "iopub.execute_input": "2021-01-30T03:27:03.919527Z",
     "iopub.status.busy": "2021-01-30T03:27:03.917025Z",
     "iopub.status.idle": "2021-01-30T03:27:03.921972Z",
     "shell.execute_reply": "2021-01-30T03:27:03.922447Z"
    }
   },
   "outputs": [
    {
     "data": {
      "text/plain": [
       "dict_keys(['gxx', 'gxy', 'gxz', 'gyy', 'gyz', 'gzz', 'vel[0]', 'vel[1]', 'vel[2]', 'alp', 'H', 'rho', 'M1', 'M2', 'M3', 'kxx', 'kxy', 'kxz', 'kyy', 'kyz', 'kzz', 'eps', 'press'])"
      ]
     },
     "execution_count": 1,
     "metadata": {},
     "output_type": "execute_result"
    }
   ],
   "source": [
    "timeseries.maximum.keys()"
   ]
  },
  {
   "cell_type": "markdown",
   "metadata": {},
   "source": [
    "There are equivalent three different way to access those variables as [timeseries](../series.rst)."
   ]
  },
  {
   "cell_type": "code",
   "execution_count": 6,
   "metadata": {
    "execution": {
     "iopub.execute_input": "2021-01-30T03:27:03.927628Z",
     "iopub.status.busy": "2021-01-30T03:27:03.926467Z",
     "iopub.status.idle": "2021-01-30T03:27:03.930030Z",
     "shell.execute_reply": "2021-01-30T03:27:03.929555Z"
    }
   },
   "outputs": [],
   "source": [
    "rho_max1 = timeseries.maximum.fields.rho\n",
    "rho_max2 = timeseries.maximum['rho']\n",
    "rho_max3 = timeseries.maximum.get('rho')"
   ]
  },
  {
   "cell_type": "markdown",
   "metadata": {},
   "source": [
    "These objects are [timeseries](../series.rst), which are extremely convienent representation of data evolving in time. These series span multiple simulation restarts and have files in different folders: `kuibit` does all the hard work to find the files and combine them. Moreover, they `timeseries` have a lot of features, as you can see in the [timeseries tutorial](timeseries.ipynb)."
   ]
  }
 ],
 "metadata": {
  "kernelspec": {
   "display_name": "Python 3",
   "language": "python",
   "name": "python3"
  },
  "language_info": {
   "codemirror_mode": {
    "name": "ipython",
    "version": 3
   },
   "file_extension": ".py",
   "mimetype": "text/x-python",
   "name": "python",
   "nbconvert_exporter": "python",
   "pygments_lexer": "ipython3",
   "version": "3.7.9"
  }
 },
 "nbformat": 4,
 "nbformat_minor": 4
}
