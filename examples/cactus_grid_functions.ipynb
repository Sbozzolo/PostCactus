{
 "cells": [
  {
   "cell_type": "markdown",
   "metadata": {},
   "source": [
    "# Working with Cactus grid functions\n",
    "\n",
    "In this notebook, we learn how to read data and represent it with the classes in the [grid_data](../grid_data.rst) module. Make sure to see the example on how to work in grid data to better make use of this module ([grid_data](grid_data.ipynb)).\n",
    "\n",
    "As for all the objects in `PostCactus`, the module for reading grid data is also structured hierarchically. \n",
    "Each level of this hierarchy focuses on a different subset of all the grid functions. The first level deals with\n",
    "dimensionality, the second on the available grid functions, and the third will be a specific variable. (Don't worry if this is not clear, if will become clear in a second).\n",
    "\n",
    "(This notebook is meant to be converted in Sphinx documentation and not used directly.)"
   ]
  },
  {
   "cell_type": "code",
   "execution_count": 1,
   "metadata": {
    "execution": {
     "iopub.execute_input": "2020-12-10T23:58:31.688889Z",
     "iopub.status.busy": "2020-12-10T23:58:31.688098Z",
     "iopub.status.idle": "2020-12-10T23:58:32.299658Z",
     "shell.execute_reply": "2020-12-10T23:58:32.298980Z"
    }
   },
   "outputs": [],
   "source": [
    "import matplotlib.pyplot as plt\n",
    "import numpy as np\n",
    "from postcactus.simdir import SimDir\n",
    "from postcactus.grid_data import UniformGrid\n",
    "\n",
    "%matplotlib inline"
   ]
  },
  {
   "cell_type": "markdown",
   "metadata": {},
   "source": [
    "The simplest way to access grid functions is from a SimDir with the attributes `gf` or `grid_functions`. You can print the attribute to see all the variables that are available to read."
   ]
  },
  {
   "cell_type": "code",
   "execution_count": 2,
   "metadata": {
    "execution": {
     "iopub.execute_input": "2020-12-10T23:58:32.312136Z",
     "iopub.status.busy": "2020-12-10T23:58:32.303378Z",
     "iopub.status.idle": "2020-12-10T23:58:32.323087Z",
     "shell.execute_reply": "2020-12-10T23:58:32.322471Z"
    }
   },
   "outputs": [
    {
     "name": "stdout",
     "output_type": "stream",
     "text": [
      "\n",
      "Available grid data of dimension 1D (x): \n",
      "['vy', 'P', 'rho_b', 'vz', 'rho_star', 'vx']\n",
      "\n",
      "\n",
      "Available grid data of dimension 1D (y): \n",
      "['vy', 'P', 'rho_b', 'vz', 'rho_star', 'vx']\n",
      "\n",
      "\n",
      "Available grid data of dimension 1D (z): \n",
      "['vy', 'P', 'rho_b', 'vz', 'rho_star', 'vx']\n",
      "\n",
      "\n",
      "Available grid data of dimension 2D (xy): \n",
      "['vy', 'rho_star', 'vx', 'P', 'rho_b', 'vz', 'rho']\n",
      "\n",
      "\n",
      "Available grid data of dimension 2D (xz): \n",
      "['vy', 'rho_star', 'vx', 'P', 'rho_b', 'vz']\n",
      "\n",
      "\n",
      "Available grid data of dimension 2D (yz): \n",
      "['vy', 'rho_star', 'vx', 'P', 'rho_b', 'vz']\n",
      "\n",
      "\n",
      "Available grid data of dimension 3D (xyz): \n",
      "['vy', 'rho_star', 'vx', 'P', 'rho_b', 'vz']\n",
      "\n"
     ]
    }
   ],
   "source": [
    "gf = SimDir(\"../../tests/grid_functions\").gf\n",
    "\n",
    "print(gf)"
   ]
  },
  {
   "cell_type": "markdown",
   "metadata": {},
   "source": [
    "To work with a variable, we first have to select what dimension we are interested in. In this example we will focus on 2D and 3D data. In case you want lower-dimensional cuts from higher-dimensional data (e.g, the plane with z=2 from 3D data), you can ask for 3D data and use the functions in `UniformGridData` to slice the data as you need.\n",
    "\n",
    "Some of the variables listed here are stored in HDF5 files, other in ASCII files. When you can, always use HDF5 data, as the performances are orders of magnitude better. `PostCactus` can handle both, but when HDF5 files are available, those are preferred. "
   ]
  },
  {
   "cell_type": "code",
   "execution_count": 3,
   "metadata": {
    "execution": {
     "iopub.execute_input": "2020-12-10T23:58:32.329532Z",
     "iopub.status.busy": "2020-12-10T23:58:32.327877Z",
     "iopub.status.idle": "2020-12-10T23:58:32.331837Z",
     "shell.execute_reply": "2020-12-10T23:58:32.331176Z"
    }
   },
   "outputs": [
    {
     "name": "stdout",
     "output_type": "stream",
     "text": [
      "\n",
      "Available grid data of dimension 3D (xyz): \n",
      "['vy', 'rho_star', 'vx', 'P', 'rho_b', 'vz']\n",
      "\n"
     ]
    }
   ],
   "source": [
    "vars2D = gf.xy  # gf[(0, 1)] would work fine\n",
    "vars3D = gf.xyz\n",
    "\n",
    "print(vars3D)"
   ]
  },
  {
   "cell_type": "markdown",
   "metadata": {},
   "source": [
    "Now, let's assume that we are interested in working with the density `rho_b`. You can select this variable using the bracket operator or as attribute of the `fields` variable"
   ]
  },
  {
   "cell_type": "code",
   "execution_count": 4,
   "metadata": {
    "execution": {
     "iopub.execute_input": "2020-12-10T23:58:32.338558Z",
     "iopub.status.busy": "2020-12-10T23:58:32.337028Z",
     "iopub.status.idle": "2020-12-10T23:58:32.340413Z",
     "shell.execute_reply": "2020-12-10T23:58:32.340866Z"
    }
   },
   "outputs": [],
   "source": [
    "rho_b = vars2D.fields.rho_b  # vars2D['rho_b'] would be fine"
   ]
  },
  {
   "cell_type": "markdown",
   "metadata": {},
   "source": [
    "`rho_b` is a rich object. Roughly speaking, it is a dictionary that labels all the iterations in the data. The simplest way to access data is by using the bracket operator, or the `get` methods."
   ]
  },
  {
   "cell_type": "code",
   "execution_count": 5,
   "metadata": {
    "execution": {
     "iopub.execute_input": "2020-12-10T23:58:32.349890Z",
     "iopub.status.busy": "2020-12-10T23:58:32.349192Z",
     "iopub.status.idle": "2020-12-10T23:58:32.358525Z",
     "shell.execute_reply": "2020-12-10T23:58:32.357809Z"
    }
   },
   "outputs": [
    {
     "name": "stdout",
     "output_type": "stream",
     "text": [
      "[0, 1, 2]\n",
      "rho0 is a <class 'postcactus.grid_data.HierarchicalGridData'>\n",
      "The value of rho0 at the point (1, 2) is 1.29285273509444e-10\n"
     ]
    }
   ],
   "source": [
    "rho0 = rho_b[0]  # this is rho at iteration 0\n",
    "# rho0 = rho_b.get_iteration(0) is equivalent\n",
    "\n",
    "# To know what iterations are available:\n",
    "print(rho_b.iterations)\n",
    "\n",
    "print(\"rho0 is a\", type(rho0))\n",
    "print(f\"The value of rho0 at the point (1, 2) is {rho0((1, 2))}\")"
   ]
  },
  {
   "cell_type": "markdown",
   "metadata": {},
   "source": [
    "As we see `rho0` is a `HierarchicalGridData`. Read documentation about this class to see how to use this object.\n",
    "\n",
    "You can also use the time instead of the iteration with the `get_time` method:"
   ]
  },
  {
   "cell_type": "code",
   "execution_count": 6,
   "metadata": {
    "execution": {
     "iopub.execute_input": "2020-12-10T23:58:32.370157Z",
     "iopub.status.busy": "2020-12-10T23:58:32.364204Z",
     "iopub.status.idle": "2020-12-10T23:58:32.375287Z",
     "shell.execute_reply": "2020-12-10T23:58:32.375829Z"
    }
   },
   "outputs": [
    {
     "name": "stdout",
     "output_type": "stream",
     "text": [
      "[0.0, 0.25, 0.5]\n"
     ]
    }
   ],
   "source": [
    "print(rho_b.available_times)\n",
    "\n",
    "rho_final = rho_b.get_time(0.5)"
   ]
  },
  {
   "cell_type": "markdown",
   "metadata": {},
   "source": [
    "Sometimes we don't need the entire grid, but we want to focus on a small region, and we want to have that sampled with uniform spacing (e.g, for plotting, or because we want to merge the refinement levels). To get a variable on a specified grid, use the `read_on_grid` method."
   ]
  },
  {
   "cell_type": "code",
   "execution_count": 7,
   "metadata": {
    "execution": {
     "iopub.execute_input": "2020-12-10T23:58:32.381667Z",
     "iopub.status.busy": "2020-12-10T23:58:32.381018Z",
     "iopub.status.idle": "2020-12-10T23:58:32.664484Z",
     "shell.execute_reply": "2020-12-10T23:58:32.665011Z"
    }
   },
   "outputs": [
    {
     "data": {
      "text/plain": [
       "<matplotlib.colorbar.Colorbar at 0x7f4a05929850>"
      ]
     },
     "execution_count": 1,
     "metadata": {},
     "output_type": "execute_result"
    },
    {
     "data": {
      "image/png": "[encoded data removed]",
      "text/plain": [
       "<Figure size 432x288 with 2 Axes>"
      ]
     },
     "metadata": {
      "needs_background": "light"
     },
     "output_type": "display_data"
    }
   ],
   "source": [
    "small_grid = UniformGrid([10, 10], x0=[-3, -3], x1=[3,3])\n",
    "\n",
    "rho0_small = rho_b.read_on_grid(0, small_grid)\n",
    "\n",
    "cf = plt.contourf(*rho0_small.coordinates_meshgrid(), np.log10(rho0_small.data_xyz))\n",
    "plt.colorbar(cf)"
   ]
  },
  {
   "cell_type": "markdown",
   "metadata": {},
   "source": [
    "The resolution is poor because we are only using 10 points (since this documentation is generated on the fly, so we want to keep the computation cost small). \n",
    "\n",
    "Here we are plotting the quantities directly so we can how how to access the data. However, `PostCactus` has also a module for plotting, which simplifies most of these operations.\n",
    "We can also make 3D plots. A simple package to made 3D plots is `mayavi`."
   ]
  },
  {
   "cell_type": "code",
   "execution_count": 8,
   "metadata": {
    "execution": {
     "iopub.execute_input": "2020-12-10T23:58:32.672261Z",
     "iopub.status.busy": "2020-12-10T23:58:32.671556Z",
     "iopub.status.idle": "2020-12-10T23:58:37.583524Z",
     "shell.execute_reply": "2020-12-10T23:58:37.584052Z"
    }
   },
   "outputs": [
    {
     "name": "stdout",
     "output_type": "stream",
     "text": [
      "Notebook initialized with png backend.\n"
     ]
    },
    {
     "data": {
      "text/html": [
       "<img src=\"data:image/png;base64,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\" alt=\"PNG image\"></img>"
      ],
      "text/plain": [
       "<IPython.core.display.HTML object>"
      ]
     },
     "metadata": {},
     "output_type": "display_data"
    }
   ],
   "source": [
    "from mayavi import mlab\n",
    "mlab.init_notebook('png')\n",
    "\n",
    "# Read 3D data on a small grid\n",
    "small_3d_grid = UniformGrid([20, 20, 20], x0=[-3, -3, -3], x1=[3,3, 3])\n",
    "rho3d_small = vars3D['rho_b'].read_on_grid(0, small_3d_grid)\n",
    "mlab.contour3d(rho3d_small.data, contours=4, transparent=True)\n",
    "mlab.colorbar(title='rho_b')\n",
    "mlab.orientation_axes()"
   ]
  },
  {
   "cell_type": "markdown",
   "metadata": {},
   "source": [
    "If you see a Minecraft Neutron Star, that's perfect! The resolution is very low.\n",
    "\n",
    "In this notebook we explored the basics of reading simulation data. The next important step for you is to understand how to make use of `HierachicalGridData` and `UniformGridData` (because this what the reader outputs!)."
   ]
  }
 ],
 "metadata": {
  "kernelspec": {
   "display_name": "Python 3",
   "language": "python",
   "name": "python3"
  },
  "language_info": {
   "codemirror_mode": {
    "name": "ipython",
    "version": 3
   },
   "file_extension": ".py",
   "mimetype": "text/x-python",
   "name": "python",
   "nbconvert_exporter": "python",
   "pygments_lexer": "ipython3",
   "version": "3.7.9"
  }
 },
 "nbformat": 4,
 "nbformat_minor": 4
}
