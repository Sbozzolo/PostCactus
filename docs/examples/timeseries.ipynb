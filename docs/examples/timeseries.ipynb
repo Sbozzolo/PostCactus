{
 "cells": [
  {
   "cell_type": "markdown",
   "metadata": {},
   "source": [
    "# Working with time series, frequency series, and unit conversion"
   ]
  },
  {
   "cell_type": "markdown",
   "metadata": {},
   "source": [
    "In this notebook, we show some of the most useful features of the :py:mod:`~timeseries` module. To do so, we will analyze a fake gravitational-wave signal. We will also show the :py:mod:`~frequencyseries` module and the :py:mod:`~unitconv` modules.\n",
    "\n",
    "First, let's generate this signal. \n",
    "\n",
    "(This notebook is meant to be converted in Sphinx documentation and not used directly.)"
   ]
  },
  {
   "cell_type": "code",
   "execution_count": null,
   "metadata": {},
   "outputs": [],
   "source": [
    "import matplotlib.pyplot as plt\n",
    "import numpy as np\n",
    "from postcactus import timeseries as ts\n",
    "from postcactus import unitconv as uc\n",
    "from postcactus.gw_utils import luminosity_distance_to_redshift\n",
    "\n",
    "%matplotlib inline"
   ]
  },
  {
   "cell_type": "code",
   "execution_count": null,
   "metadata": {},
   "outputs": [],
   "source": [
    "t = np.linspace(0, 20, 500)\n",
    "y = np.sin(t)\n",
    "\n",
    "# Generate a TimeSeries by providing the times and the values of the series\n",
    "gw = ts.TimeSeries(t, y)"
   ]
  },
  {
   "cell_type": "markdown",
   "metadata": {},
   "source": [
    "To access the times and the values, use ``gw.t`` and ``gw.y``. "
   ]
  },
  {
   "cell_type": "code",
   "execution_count": null,
   "metadata": {},
   "outputs": [],
   "source": [
    "def plot(ser, *args, **kwargs):\n",
    "    \"\"\"Plot ser with labels\"\"\"\n",
    "    plt.ylabel(\"d h\")\n",
    "    plt.xlabel(\"t\")\n",
    "    plt.plot(ser.t, ser.y, *args, **kwargs)\n",
    "    \n",
    "plot(gw)"
   ]
  },
  {
   "cell_type": "markdown",
   "metadata": {},
   "source": [
    "Let's make this more interesting: we square the signal and add Gaussian noise. :py:class:`TimeSeries` support directly using all the basic mathematical operations in Python and NumPy, so we can easily square the signal and add another TimeSeries to it."
   ]
  },
  {
   "cell_type": "code",
   "execution_count": null,
   "metadata": {},
   "outputs": [],
   "source": [
    "noise = np.random.normal(0, 0.1, len(gw))  # Here we used len() on the TimeSeries\n",
    "noise_ts = ts.TimeSeries(t, noise)\n",
    "\n",
    "gw += noise_ts\n",
    "gw **= 2\n",
    "\n",
    "plot(gw)"
   ]
  },
  {
   "cell_type": "markdown",
   "metadata": {},
   "source": [
    "To analyze this signal, first we will smooth it. To do that, we will use the :py:met:`~savgol_smooth_time` method, which is a generalized \"running average\" filter. This method requires length of time over which we want to smooth the data.\n",
    "\n",
    "In :py:class:`~TimeSeries` there are always two different methods to do the same task, one with imperative verb (e.g., smooth), and the other with the past tense (e.g., smoothed). The first modifies the data, the second returns a new `TimeSeries` with the operation applied. Here, we will find what smoothing length to use by trial and error, so we will use the second method. "
   ]
  },
  {
   "cell_type": "code",
   "execution_count": null,
   "metadata": {},
   "outputs": [],
   "source": [
    "tsmooth = np.linspace(1, 3, 5)\n",
    "\n",
    "plt.ylabel('y')\n",
    "plt.xlabel('t')\n",
    "for tsm in tsmooth:\n",
    "    smoothed = gw.savgol_smoothed_time(tsm)\n",
    "    plt.plot(smoothed.t, smoothed.y, label=tsm)\n",
    "plt.legend()"
   ]
  },
  {
   "cell_type": "markdown",
   "metadata": {},
   "source": [
    "From visual inspection it looks like that ``tsmooth = 1.5`` will work yield a clean series faithful to the original one."
   ]
  },
  {
   "cell_type": "code",
   "execution_count": null,
   "metadata": {},
   "outputs": [],
   "source": [
    "gw.savgol_smooth_time(1.5)\n",
    "plot(gw)"
   ]
  },
  {
   "cell_type": "markdown",
   "metadata": {},
   "source": [
    "Next, for fun, we can compute integrals and derivatives. For instance, we can compute what is the integral from 5 to 10."
   ]
  },
  {
   "cell_type": "code",
   "execution_count": null,
   "metadata": {},
   "outputs": [],
   "source": [
    "gw_int = gw.integrated()\n",
    "a = 5\n",
    "b = 10\n",
    "print(f\"The integral from {a} to {b} is {gw_int(b) - gw_int(a):.4f}\")\n",
    "plot(gw_int)"
   ]
  },
  {
   "cell_type": "markdown",
   "metadata": {},
   "source": [
    "Here, we showed a very powerful feature of TimeSeries: you can call them on a specific time (as we did we ``gw_int(b)``). This is done using splines to interpolate to the points that are not available. Splines can also be used to take derivatives. Alternatively, one can simply take the finite (central) difference. Let's see what's the derivative of ``gw`` using splines and finite difference."
   ]
  },
  {
   "cell_type": "code",
   "execution_count": null,
   "metadata": {},
   "outputs": [],
   "source": [
    "gw_spline_der = gw.spline_derived()\n",
    "gw_numer_der = gw.derived()\n",
    "\n",
    "plot(gw_spline_der, label='spline')\n",
    "plot(gw_numer_der, label='finite')\n",
    "plt.legend()"
   ]
  },
  {
   "cell_type": "markdown",
   "metadata": {},
   "source": [
    "Clearly, derivatives will be noisier than the actual data, so often it is convenient to smooth them out as shown before."
   ]
  },
  {
   "cell_type": "markdown",
   "metadata": {},
   "source": [
    "TimeSeries support complex signals. Now, we will create one using `gw` itself. We will copy `gw`, time-shift it, find the common time interval with the original `gw`, and use that as a the imaginary part."
   ]
  },
  {
   "cell_type": "code",
   "execution_count": null,
   "metadata": {},
   "outputs": [],
   "source": [
    "gw_imag = gw.copy()  # It is important to deep copy the object\n",
    "gw_imag.time_shift(4)\n",
    "\n",
    "plot(gw_imag)"
   ]
  },
  {
   "cell_type": "code",
   "execution_count": null,
   "metadata": {},
   "outputs": [],
   "source": [
    "gw, gw_imag = ts.sample_common([gw, gw_imag])  # Resampling to common times\n",
    "\n",
    "plot(gw, label=\"orig\")\n",
    "plot(gw_imag, label=\"new\")\n",
    "plt.legend()"
   ]
  },
  {
   "cell_type": "code",
   "execution_count": null,
   "metadata": {},
   "outputs": [],
   "source": [
    "gw_complex = ts.TimeSeries(gw.t, gw.y + 1j * gw_imag.y)\n",
    "\n",
    "plot(gw_complex.real(), label=\"real\")\n",
    "plot(gw_complex.imag(), label=\"imag\")\n",
    "plt.legend()"
   ]
  },
  {
   "cell_type": "markdown",
   "metadata": {},
   "source": [
    "We can also compute the phase and absolute value. In particular, we will compute the unfolded phase (no wrapping over 2 :math:`\\pi`)"
   ]
  },
  {
   "cell_type": "code",
   "execution_count": null,
   "metadata": {},
   "outputs": [],
   "source": [
    "plot(gw_complex.abs(), label='abs')\n",
    "plot(gw_complex.unfolded_phase(), label='phase')\n",
    "plt.legend()"
   ]
  },
  {
   "cell_type": "markdown",
   "metadata": {},
   "source": [
    "Here, the unfolded phase looks a little bit unusual. This is because we made up the signal."
   ]
  },
  {
   "cell_type": "markdown",
   "metadata": {},
   "source": [
    "We can also compute the frequency of the phase, which we can directly smooth."
   ]
  },
  {
   "cell_type": "code",
   "execution_count": null,
   "metadata": {},
   "outputs": [],
   "source": [
    "plot(gw_complex.phase_frequency(tsmooth=1.5))"
   ]
  },
  {
   "cell_type": "markdown",
   "metadata": {},
   "source": [
    "Next, we will take a Fourier transform. Before, let's pretend that the signal was in geometrized units (as in simulations), and let's make it physical assuming a scale of :math:`M = 1 M_\\odot`. For that, use the :py:mod:`~unitconv` module. We define a CU object that knows how to convert units."
   ]
  },
  {
   "cell_type": "code",
   "execution_count": null,
   "metadata": {},
   "outputs": [],
   "source": [
    "CU = uc.geom_umass_msun(1) \n",
    "\n",
    "# How to convert from geometrized length to physical length?\n",
    "# Simply multiply times CU.length. Let's check that it is 1.477 km\n",
    "CU.length  # m"
   ]
  },
  {
   "cell_type": "markdown",
   "metadata": {},
   "source": [
    "Now we rescale `gw`, assuming that `y` is strain times distance (as usually is). Let's assume a distance of 500 Mpc."
   ]
  },
  {
   "cell_type": "code",
   "execution_count": null,
   "metadata": {},
   "outputs": [],
   "source": [
    "d_Mpc = 500\n",
    "\n",
    "# inverse = True means from geometrized to physical\n",
    "gw_physical = gw_complex.time_unit_changed(CU.time, inverse=True)  \n",
    "\n",
    "gw_physical *= CU.length  # dh -> dh physical\n",
    "# Now just the strain, since we assume a distance\n",
    "gw_physical /= (d_Mpc * uc.MEGAPARSEC_SI)\n",
    "\n",
    "# We have to manually add the redshift\n",
    "gw_physical.redshifted(luminosity_distance_to_redshift(d_Mpc))\n",
    "\n",
    "plt.xlabel(\"t [s]\")\n",
    "plt.ylabel(\"h\")\n",
    "plt.plot(gw_physical.t, gw_physical.y)"
   ]
  },
  {
   "cell_type": "code",
   "execution_count": null,
   "metadata": {},
   "outputs": [],
   "source": []
  }
 ],
 "metadata": {
  "kernelspec": {
   "display_name": "Python 3",
   "language": "python",
   "name": "python3"
  },
  "language_info": {
   "codemirror_mode": {
    "name": "ipython",
    "version": 3
   },
   "file_extension": ".py",
   "mimetype": "text/x-python",
   "name": "python",
   "nbconvert_exporter": "python",
   "pygments_lexer": "ipython3",
   "version": "3.7.8"
  }
 },
 "nbformat": 4,
 "nbformat_minor": 4
}
