{
 "cells": [
  {
   "cell_type": "markdown",
   "metadata": {},
   "source": [
    "# Working with Cactus grid functions\n",
    "\n",
    "In this notebook, we learn how to read data and represent it with the classes in the [grid_data](../grid_data.rst) module. Make sure to see the example on how to work in grid data to better make use of this module ([grid_data](grid_data.ipynb)).\n",
    "\n",
    "As for all the objects in `PostCactus`, the module for reading grid data is also structured hierarchically. \n",
    "Each level of this hierarchy focuses on a different subset of all the grid functions. The first level deals with\n",
    "dimensionality, the second on the available grid functions, and the third will be a specific variable. (Don't worry if this is not clear, if will become clear in a second).\n",
    "\n",
    "(This notebook is meant to be converted in Sphinx documentation and not used directly.)"
   ]
  },
  {
   "cell_type": "code",
   "execution_count": 14,
   "metadata": {},
   "outputs": [],
   "source": [
    "import matplotlib.pyplot as plt\n",
    "from postcactus.simdir import SimDir\n",
    "from postcactus.grid_data import UniformGrid\n",
    "\n",
    "%matplotlib inline"
   ]
  },
  {
   "cell_type": "markdown",
   "metadata": {},
   "source": [
    "The simplest way to access grid functions is from a SimDir with the attributes `gf` or `grid_functions`. You can print the attribute to see all the variables that are available to read."
   ]
  },
  {
   "cell_type": "code",
   "execution_count": 2,
   "metadata": {},
   "outputs": [
    {
     "name": "stdout",
     "output_type": "stream",
     "text": [
      "\n",
      "Available grid data of dimension (0,): \n",
      "['vx', 'rho_b', 'rho_star', 'P', 'vy', 'vz']\n",
      "\n",
      "\n",
      "Available grid data of dimension (1,): \n",
      "['vx', 'rho_b', 'rho_star', 'P', 'vy', 'vz']\n",
      "\n",
      "\n",
      "Available grid data of dimension (2,): \n",
      "['vx', 'rho_b', 'rho_star', 'P', 'vy', 'vz']\n",
      "\n",
      "\n",
      "Available grid data of dimension (0, 1): \n",
      "['rho_b', 'vy', 'vz', 'rho', 'vx', 'rho_star', 'P']\n",
      "\n",
      "\n",
      "Available grid data of dimension (0, 2): \n",
      "['rho_b', 'vy', 'vz', 'vx', 'rho_star', 'P']\n",
      "\n",
      "\n",
      "Available grid data of dimension (1, 2): \n",
      "['rho_b', 'vy', 'vz', 'vx', 'rho_star', 'P']\n",
      "\n",
      "\n",
      "Available grid data of dimension (0, 1, 2): \n",
      "['rho_b', 'vy', 'vz', 'vx', 'rho_star', 'P']\n",
      "\n"
     ]
    }
   ],
   "source": [
    "gf = SimDir(\"../../tests/grid_functions\").gf\n",
    "\n",
    "print(gf)"
   ]
  },
  {
   "cell_type": "markdown",
   "metadata": {},
   "source": [
    "Dimension 0 is the x axis, 1 is the y, and 2 is the z axis. So, dimension (0, 1, 2) is 3D data, and dimension (0, 1) is 2D data on the xy plane. To work with a variable, we first have to select what dimension we are interested in. In this example we will focus on 2D and 3D data. In case you want lower-dimensional cuts from higher-dimensional data (e.g, the plane with z=2 from 3D data), you can ask for 3D data and use the functions in `UniformGridData` to slice the data as you need.\n",
    "\n",
    "Some of the variables listed here are stored in HDF5 files, other in ASCII files. When you can, always use HDF5 data, as the performances are orders of magnitude better. `PostCactus` can handle both, but when HDF5 files are available, those are preferred. "
   ]
  },
  {
   "cell_type": "code",
   "execution_count": 3,
   "metadata": {},
   "outputs": [
    {
     "name": "stdout",
     "output_type": "stream",
     "text": [
      "\n",
      "Available grid data of dimension (0, 1, 2): \n",
      "['rho_b', 'vy', 'vz', 'vx', 'rho_star', 'P']\n",
      "\n"
     ]
    }
   ],
   "source": [
    "vars2D = gf.xy  # gf[(0, 1)] would work fine\n",
    "vars3D = gf.xyz\n",
    "\n",
    "print(vars3D)"
   ]
  },
  {
   "cell_type": "markdown",
   "metadata": {},
   "source": [
    "Now, let's assume that we are interested in working with the density `rho_b`. You can select this variable using the bracket operator or as attribute of the `fields` variable"
   ]
  },
  {
   "cell_type": "code",
   "execution_count": 4,
   "metadata": {},
   "outputs": [],
   "source": [
    "rho_b = vars2D.fields.rho_b  # vars2D['rho_b'] would be fine"
   ]
  },
  {
   "cell_type": "markdown",
   "metadata": {},
   "source": [
    "`rho_b` is a rich object. Roughly speaking, it is a dictionary that labels all the iterations in the data. The simplest way to access data is by using the bracket operator, or the `get` methods."
   ]
  },
  {
   "cell_type": "code",
   "execution_count": 11,
   "metadata": {},
   "outputs": [
    {
     "name": "stdout",
     "output_type": "stream",
     "text": [
      "[0, 1, 2]\n",
      "rho0 is a <class 'postcactus.grid_data.HierarchicalGridData'>\n",
      "The value of rho0 at the point (1, 2) is 1.29285273509444e-10\n"
     ]
    }
   ],
   "source": [
    "rho0 = rho_b[0]  # this is rho at iteration 0\n",
    "# rho0 = rho_b.get_iteration(0) is equivalent\n",
    "\n",
    "# To know what iterations are available:\n",
    "print(rho_b.iterations)\n",
    "\n",
    "print(\"rho0 is a\", type(rho0))\n",
    "print(f\"The value of rho0 at the point (1, 2) is {rho0((1, 2))}\")"
   ]
  },
  {
   "cell_type": "markdown",
   "metadata": {},
   "source": [
    "As we see `rho0` is a `HierarchicalGridData`. Read documentation about this class to see how to use this object.\n",
    "\n",
    "You can also use the time instead of the iteration with the `get_time` method:"
   ]
  },
  {
   "cell_type": "code",
   "execution_count": 13,
   "metadata": {},
   "outputs": [
    {
     "name": "stdout",
     "output_type": "stream",
     "text": [
      "[0.0, 0.25, 0.5]\n"
     ]
    }
   ],
   "source": [
    "print(rho_b.available_times)\n",
    "\n",
    "rho_final = rho_b.get_time(0.5)"
   ]
  },
  {
   "cell_type": "markdown",
   "metadata": {},
   "source": [
    "Sometimes we don't need the entire grid, but we want to focus on a small region, and we want to have that sampled with uniform spacing (e.g, for plotting, or because we want to merge the refinement levels). To get a variable on a specified grid, use the `read_on_grid` method."
   ]
  },
  {
   "cell_type": "code",
   "execution_count": 26,
   "metadata": {},
   "outputs": [
    {
     "data": {
      "text/plain": [
       "<matplotlib.colorbar.Colorbar at 0x7f07453f1350>"
      ]
     },
     "execution_count": 26,
     "metadata": {},
     "output_type": "execute_result"
    },
    {
     "data": {
      "image/png": "[encoded data removed]",
      "text/plain": [
       "<Figure size 432x288 with 2 Axes>"
      ]
     },
     "metadata": {
      "needs_background": "light"
     },
     "output_type": "display_data"
    }
   ],
   "source": [
    "small_grid = UniformGrid([10, 10], x0=[-3, -3], x1=[3,3])\n",
    "\n",
    "rho0_small = rho_b.read_on_grid(0, small_grid)\n",
    "\n",
    "cf = plt.contourf(*rho0_small.coordinates_meshgrid(), np.log10(rho0_small.data.T))\n",
    "plt.colorbar(cf)"
   ]
  },
  {
   "cell_type": "markdown",
   "metadata": {},
   "source": [
    "The resolution is poor because we are only using 10 points (since this documentation is generated on the fly, so we want to keep the computation cost small). \n",
    "\n",
    "We can also make 3D plots. A simple package to made 3D plots is `mayavi`."
   ]
  },
  {
   "cell_type": "code",
   "execution_count": 39,
   "metadata": {},
   "outputs": [
    {
     "name": "stdout",
     "output_type": "stream",
     "text": [
      "Notebook initialized with png backend.\n"
     ]
    },
    {
     "data": {
      "text/html": [
       "<img src=\"data:image/png;base64,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\" alt=\"PNG image\"></img>"
      ],
      "text/plain": [
       "<IPython.core.display.HTML object>"
      ]
     },
     "metadata": {},
     "output_type": "display_data"
    }
   ],
   "source": [
    "from mayavi import mlab\n",
    "mlab.init_notebook('png')\n",
    "\n",
    "# Read 3D data on a small grid\n",
    "small_3d_grid = UniformGrid([20, 20, 20], x0=[-3, -3, -3], x1=[3,3, 3])\n",
    "rho3d_small = vars3D['rho_b'].read_on_grid(0, small_3d_grid)\n",
    "mlab.contour3d(rho3d_small.data, contours=4, transparent=True)\n",
    "mlab.colorbar(title='rho_b')\n",
    "mlab.orientation_axes()"
   ]
  },
  {
   "cell_type": "markdown",
   "metadata": {},
   "source": [
    "If you see a Minecraft Neutron Star, that's perfect! The resolution is very low.\n",
    "\n",
    "In this notebook we explored the basics of reading simulation data. The next important step for you is to understand how to make use of `HierachicalGridData` and `UniformGridData` (because this what the reader outputs!)."
   ]
  },
  {
   "cell_type": "code",
   "execution_count": null,
   "metadata": {},
   "outputs": [],
   "source": []
  }
 ],
 "metadata": {
  "kernelspec": {
   "display_name": "Python 3",
   "language": "python",
   "name": "python3"
  },
  "language_info": {
   "codemirror_mode": {
    "name": "ipython",
    "version": 3
   },
   "file_extension": ".py",
   "mimetype": "text/x-python",
   "name": "python",
   "nbconvert_exporter": "python",
   "pygments_lexer": "ipython3",
   "version": "3.7.9"
  }
 },
 "nbformat": 4,
 "nbformat_minor": 4
}
